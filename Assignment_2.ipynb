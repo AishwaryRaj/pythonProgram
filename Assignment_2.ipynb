{
 "cells": [
  {
   "cell_type": "markdown",
   "id": "7180ca73",
   "metadata": {},
   "source": [
    "# Assignment_2"
   ]
  },
  {
   "cell_type": "markdown",
   "id": "4cf891ab",
   "metadata": {},
   "source": [
    "#1.What are the two values of the Boolean data type? How do you write them?"
   ]
  },
  {
   "cell_type": "markdown",
   "id": "3f7a4e3c",
   "metadata": {},
   "source": [
    "True \n",
    "False"
   ]
  },
  {
   "cell_type": "code",
   "execution_count": 1,
   "id": "a6cf3539",
   "metadata": {},
   "outputs": [
    {
     "name": "stdout",
     "output_type": "stream",
     "text": [
      "<class 'bool'>\n",
      "<class 'bool'>\n"
     ]
    }
   ],
   "source": [
    "a = True\n",
    "b = False\n",
    "print(type(a))\n",
    "print(type(b))"
   ]
  },
  {
   "cell_type": "markdown",
   "id": "5cd1e274",
   "metadata": {},
   "source": [
    "#2. What are the three different types of Boolean operators?"
   ]
  },
  {
   "cell_type": "markdown",
   "id": "d849ee85",
   "metadata": {},
   "source": [
    "Ans: The three differnt types of Boolean operators in python are:  and, or, not"
   ]
  },
  {
   "cell_type": "code",
   "execution_count": 2,
   "id": "19c0dc7b",
   "metadata": {},
   "outputs": [
    {
     "name": "stdout",
     "output_type": "stream",
     "text": [
      "False\n",
      "True\n",
      "False\n"
     ]
    }
   ],
   "source": [
    "a = 4\n",
    "b = 6\n",
    "print(a>6 and b<4)#example of 'and' operator\n",
    "print(a<6 or b>4)#example of 'or' operator\n",
    "print(not(a==4))# example of 'not operator'"
   ]
  },
  {
   "cell_type": "markdown",
   "id": "fc2d16c9",
   "metadata": {},
   "source": [
    "#3. Make a list of each Boolean operator's truth tables (i.e. every possible combination of Boolean\n",
    "values for the operator and what it evaluate )."
   ]
  },
  {
   "cell_type": "markdown",
   "id": "293393d3",
   "metadata": {},
   "source": [
    "Ans: The Truth tables for the boolean tables are as follows:\n",
    "\n",
    "Truth Table for and operaotor:\n",
    "True and True is True,\n",
    "True and False is False,\n",
    "False and True is False,\n",
    "False and False is False.\n",
    "\n",
    "Truth Table for or operaotor:\n",
    "True or True is True,\n",
    "True or False is True,\n",
    "False or True is True,\n",
    "False or False is False.\n",
    "\n",
    "Truth Table for not operaotor:\n",
    "True not is False, False not is True"
   ]
  },
  {
   "cell_type": "markdown",
   "id": "6eb8019a",
   "metadata": {},
   "source": [
    "#4. What are the values of the following expressions?"
   ]
  },
  {
   "cell_type": "markdown",
   "id": "98614ab3",
   "metadata": {},
   "source": [
    "(5 > 4) and (3 == 5)\n",
    "not (5 > 4)\n",
    "(5 > 4) or (3 == 5)\n",
    "not ((5 > 4) or (3 == 5))\n",
    "(True and True) and (True == False)\n",
    "(not False) or (not True)"
   ]
  },
  {
   "cell_type": "code",
   "execution_count": 4,
   "id": "b1aa509c",
   "metadata": {},
   "outputs": [
    {
     "data": {
      "text/plain": [
       "False"
      ]
     },
     "execution_count": 4,
     "metadata": {},
     "output_type": "execute_result"
    }
   ],
   "source": [
    "(5 > 4) and (3 == 5)#False"
   ]
  },
  {
   "cell_type": "code",
   "execution_count": 5,
   "id": "97b93d7a",
   "metadata": {},
   "outputs": [
    {
     "data": {
      "text/plain": [
       "False"
      ]
     },
     "execution_count": 5,
     "metadata": {},
     "output_type": "execute_result"
    }
   ],
   "source": [
    "not (5 > 4)#False"
   ]
  },
  {
   "cell_type": "code",
   "execution_count": 6,
   "id": "bcece403",
   "metadata": {},
   "outputs": [
    {
     "data": {
      "text/plain": [
       "True"
      ]
     },
     "execution_count": 6,
     "metadata": {},
     "output_type": "execute_result"
    }
   ],
   "source": [
    "(5 > 4) or (3 == 5)#True"
   ]
  },
  {
   "cell_type": "code",
   "execution_count": 7,
   "id": "80ecd6f0",
   "metadata": {},
   "outputs": [
    {
     "data": {
      "text/plain": [
       "False"
      ]
     },
     "execution_count": 7,
     "metadata": {},
     "output_type": "execute_result"
    }
   ],
   "source": [
    "not ((5 > 4) or (3 == 5))#False"
   ]
  },
  {
   "cell_type": "code",
   "execution_count": 8,
   "id": "aa0eed4b",
   "metadata": {},
   "outputs": [
    {
     "data": {
      "text/plain": [
       "False"
      ]
     },
     "execution_count": 8,
     "metadata": {},
     "output_type": "execute_result"
    }
   ],
   "source": [
    "(True and True) and (True == False)#False"
   ]
  },
  {
   "cell_type": "code",
   "execution_count": 9,
   "id": "c198be37",
   "metadata": {},
   "outputs": [
    {
     "data": {
      "text/plain": [
       "True"
      ]
     },
     "execution_count": 9,
     "metadata": {},
     "output_type": "execute_result"
    }
   ],
   "source": [
    "(not False) or (not True)#True"
   ]
  },
  {
   "cell_type": "markdown",
   "id": "5de97c81",
   "metadata": {},
   "source": [
    "#5. What are the six comparison operators?"
   ]
  },
  {
   "cell_type": "markdown",
   "id": "646dde32",
   "metadata": {},
   "source": [
    "Ans: The Six comparision operators available in python are:\n",
    "== , != , < , > , <= , =>"
   ]
  },
  {
   "cell_type": "markdown",
   "id": "0a075d9a",
   "metadata": {},
   "source": [
    "#6. How do you tell the difference between the equal to and assignment operators?Describe a\n",
    "condition and when you would use one."
   ]
  },
  {
   "cell_type": "markdown",
   "id": "704f275c",
   "metadata": {},
   "source": [
    "Ans: == is the equal to operator that compares two values and evaluates to a Boolean, while = is that assignment operator that stores a value in a variable."
   ]
  },
  {
   "cell_type": "code",
   "execution_count": 10,
   "id": "9206eecb",
   "metadata": {},
   "outputs": [
    {
     "name": "stdout",
     "output_type": "stream",
     "text": [
      "True\n"
     ]
    }
   ],
   "source": [
    "a=3 # Assigning operator that stores 3 value in a variable a\n",
    "print(a==3)#comparing values of a varible value and 3\n",
    "     "
   ]
  },
  {
   "cell_type": "markdown",
   "id": "4bc74b4f",
   "metadata": {},
   "source": [
    "#7. Identify the three blocks in this code:"
   ]
  },
  {
   "cell_type": "markdown",
   "id": "c5e4a57d",
   "metadata": {},
   "source": [
    "spam = 0\n",
    "if spam == 10:\n",
    "print('eggs')\n",
    "if spam > 5:\n",
    "print('bacon')\n",
    "else:\n",
    "print('ham')\n",
    "print('spam')\n",
    "print('spam')"
   ]
  },
  {
   "cell_type": "code",
   "execution_count": 11,
   "id": "fd5dcd26",
   "metadata": {},
   "outputs": [
    {
     "name": "stdout",
     "output_type": "stream",
     "text": [
      "ham\n",
      "spam\n",
      "spam\n"
     ]
    }
   ],
   "source": [
    "spam = 0  \n",
    "if spam == 10:  \n",
    "    print('eggs')  # block #1\n",
    "if spam > 5:  \n",
    "    print('bacon')  # block #2\n",
    "else:  \n",
    "    print('ham')  # block #3\n",
    "print('spam')  \n",
    "print('spam')"
   ]
  },
  {
   "cell_type": "markdown",
   "id": "98a13852",
   "metadata": {},
   "source": [
    "#8. Write code that prints Hello if 1 is stored in spam, prints Howdy if 2 is stored in spam, and prints\n",
    "Greetings! if anything else is stored in spam."
   ]
  },
  {
   "cell_type": "code",
   "execution_count": 12,
   "id": "8ee36816",
   "metadata": {},
   "outputs": [
    {
     "name": "stdout",
     "output_type": "stream",
     "text": [
      "Hello\n",
      "Howdy\n",
      "Greetings\n"
     ]
    }
   ],
   "source": [
    "def spamCode(spam):\n",
    "    if spam==1:\n",
    "        print('Hello')\n",
    "    elif spam==2:\n",
    "        print('Howdy')\n",
    "    else:\n",
    "        print('Greetings')\n",
    "        \n",
    "spamCode(1) \n",
    "spamCode(2)\n",
    "spamCode(3)"
   ]
  },
  {
   "cell_type": "markdown",
   "id": "6c898a5d",
   "metadata": {},
   "source": [
    "#9.If your programme is stuck in an endless loop, what keys you’ll press?"
   ]
  },
  {
   "cell_type": "markdown",
   "id": "ad51cb86",
   "metadata": {},
   "source": [
    "Ans: Press Ctrl-c to stop a program stuck in an infinite loop"
   ]
  },
  {
   "cell_type": "markdown",
   "id": "d2f3a417",
   "metadata": {},
   "source": [
    "#10. How can you tell the difference between break and continue?"
   ]
  },
  {
   "cell_type": "markdown",
   "id": "993537bb",
   "metadata": {},
   "source": [
    "Ans: The break statement will move the execution outside the loop if break condtion is satisfied. Whereas the continue statement will move the execution to the start of the loop."
   ]
  },
  {
   "cell_type": "markdown",
   "id": "393afc13",
   "metadata": {},
   "source": [
    "#11. In a for loop, what is the difference between range(10), range(0, 10), and range(0, 10, 1)?"
   ]
  },
  {
   "cell_type": "markdown",
   "id": "222c4987",
   "metadata": {},
   "source": [
    "Ans: The Differences are as follows:\n",
    "\n",
    "1.The range(10) call range from 0 to 9 (but not include 10)\n",
    "2.The range (0,10) explicitly tells the loop to start at 0\n",
    "3.The range(0,10,1) explicitly tells the loop to increase the variable by 1 on each iteration"
   ]
  },
  {
   "cell_type": "markdown",
   "id": "88eaa5b7",
   "metadata": {},
   "source": [
    "#12. Write a short program that prints the numbers 1 to 10 using a for loop. Then write an equivalent\n",
    "program that prints the numbers 1 to 10 using a while loop."
   ]
  },
  {
   "cell_type": "code",
   "execution_count": 14,
   "id": "be618d09",
   "metadata": {},
   "outputs": [
    {
     "name": "stdout",
     "output_type": "stream",
     "text": [
      "1 2 3 4 5 6 7 8 9 10 \n",
      "\n",
      "1 2 3 4 5 6 7 8 9 10 "
     ]
    }
   ],
   "source": [
    "#printing the numbers 1 to 10 using a for loop\n",
    "for i in range(1,11):\n",
    "    print(i, end= \" \")\n",
    "print('\\n')\n",
    "#printing the numbers 1 to 10 using a while loop\n",
    "i=1\n",
    "while i<=10:\n",
    "    print(i, end= \" \")\n",
    "    i+=1"
   ]
  },
  {
   "cell_type": "markdown",
   "id": "47c5946e",
   "metadata": {},
   "source": [
    "#13. If you had a function named bacon() inside a module named spam, how would you call it after\n",
    "importing spam?"
   ]
  },
  {
   "cell_type": "markdown",
   "id": "39bb394b",
   "metadata": {},
   "source": [
    "Ans: This function can be called with spam.bacon()"
   ]
  }
 ],
 "metadata": {
  "kernelspec": {
   "display_name": "Python 3 (ipykernel)",
   "language": "python",
   "name": "python3"
  },
  "language_info": {
   "codemirror_mode": {
    "name": "ipython",
    "version": 3
   },
   "file_extension": ".py",
   "mimetype": "text/x-python",
   "name": "python",
   "nbconvert_exporter": "python",
   "pygments_lexer": "ipython3",
   "version": "3.9.12"
  }
 },
 "nbformat": 4,
 "nbformat_minor": 5
}
