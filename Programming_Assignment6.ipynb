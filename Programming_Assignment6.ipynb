{
 "cells": [
  {
   "cell_type": "markdown",
   "id": "721244d3",
   "metadata": {},
   "source": [
    "# Programming_Assignment6"
   ]
  },
  {
   "cell_type": "markdown",
   "id": "003f3ed7",
   "metadata": {},
   "source": [
    "#Q1. Write a Python Program to Display Fibonacci Sequence using Recursion ?"
   ]
  },
  {
   "cell_type": "code",
   "execution_count": 2,
   "id": "37d88592",
   "metadata": {},
   "outputs": [
    {
     "name": "stdout",
     "output_type": "stream",
     "text": [
      "please enter the number of terms to be printed in fibonacci series 10\n",
      "The fibonacci sequence is :  0 1 1 2 3 5 8 13 21 34 "
     ]
    }
   ],
   "source": [
    "def fibonacci_recursion(my_val):\n",
    "    if my_val <= 1:\n",
    "        return my_val\n",
    "    else:\n",
    "        return(fibonacci_recursion(my_val-1) + fibonacci_recursion(my_val-2))\n",
    "\n",
    "\n",
    "num_terms = int(input(\"please enter the number of terms to be printed in fibonacci series \"))\n",
    "\n",
    "if num_terms <= 0:\n",
    "    print(\"Enter a positive integer\")\n",
    "else:\n",
    "    print(\"The fibonacci sequence is : \" ,end=\" \" )\n",
    "\n",
    "    for i in range(num_terms):\n",
    "        print(fibonacci_recursion(i), end=\" \")"
   ]
  },
  {
   "cell_type": "markdown",
   "id": "c0b117a9",
   "metadata": {},
   "source": [
    "#Q2. Write a Python Program to Find Factorial of a Number using Recursion ?"
   ]
  },
  {
   "cell_type": "code",
   "execution_count": 9,
   "id": "d028851a",
   "metadata": {},
   "outputs": [
    {
     "name": "stdout",
     "output_type": "stream",
     "text": [
      "Enter a number: 5\n",
      "The Factorial of 5 is 120\n"
     ]
    }
   ],
   "source": [
    "def factorial(n):\n",
    "    if(n <= 1):\n",
    "        return 1\n",
    "    else:\n",
    "        return(n*factorial(n-1))\n",
    "\n",
    "    \n",
    "num = int(input('Enter a number: '))\n",
    "value = factorial(num)\n",
    "print(f'The Factorial of {num} is {value}')"
   ]
  },
  {
   "cell_type": "markdown",
   "id": "8b88e2d8",
   "metadata": {},
   "source": [
    "#Q3. Write a Python Program to Calculate your Body Mass Index ?"
   ]
  },
  {
   "cell_type": "code",
   "execution_count": 12,
   "id": "3066f9cb",
   "metadata": {},
   "outputs": [
    {
     "name": "stdout",
     "output_type": "stream",
     "text": [
      "Enter the height in cm: 171\n",
      "Enter the weight in kg: 89\n",
      "Your Body Mass Index is 30.436715570602924\n",
      "Seesh! You are obese.\n"
     ]
    }
   ],
   "source": [
    "def calculateBMI():\n",
    "\n",
    "    the_height = float(input(\"Enter the height in cm: \"))  \n",
    "    the_weight = float(input(\"Enter the weight in kg: \"))  \n",
    "\n",
    "    the_BMI = the_weight / (the_height/100)**2  \n",
    "  \n",
    "    print(\"Your Body Mass Index is\", the_BMI)  \n",
    "\n",
    "\n",
    "    if the_BMI <= 18.5:  \n",
    "        print(\"Oops! You are underweight.\")  \n",
    "    elif the_BMI <= 24.9:  \n",
    "        print(\"Awesome! You are healthy.\")  \n",
    "    elif the_BMI <= 29.9:  \n",
    "        the_print(\"Eee! You are over weight.\")  \n",
    "    else:  \n",
    "        print(\"Seesh! You are obese.\")  \n",
    "        \n",
    "        \n",
    "calculateBMI()        "
   ]
  },
  {
   "cell_type": "markdown",
   "id": "6708da8d",
   "metadata": {},
   "source": [
    "#Q4. Write a Python Program to Calculate the Natural Logarithm of any Number ?"
   ]
  },
  {
   "cell_type": "code",
   "execution_count": 13,
   "id": "2172d064",
   "metadata": {},
   "outputs": [
    {
     "name": "stdout",
     "output_type": "stream",
     "text": [
      "Enter a Number:10\n",
      "2.302585092994046\n"
     ]
    }
   ],
   "source": [
    "import math\n",
    "def genNatLog():\n",
    "    in_num = eval(input(\"Enter a Number:\"))\n",
    "    print(math.log(in_num))\n",
    "\n",
    "genNatLog()"
   ]
  },
  {
   "cell_type": "markdown",
   "id": "726b2699",
   "metadata": {},
   "source": [
    "#Q5. Write a Python Program for Cube sum of first n Natural Numbers ?"
   ]
  },
  {
   "cell_type": "code",
   "execution_count": 15,
   "id": "ff7ce33e",
   "metadata": {},
   "outputs": [
    {
     "name": "stdout",
     "output_type": "stream",
     "text": [
      "Enter the no of Natural Numbers: 3\n",
      "The Cube Sum of First 3 Natural Numbers is 36.0\n"
     ]
    }
   ],
   "source": [
    "def cubeOfNaturalNumbers():\n",
    "    in_num = int(input(\"Enter the no of Natural Numbers: \"))\n",
    "    result = pow(((in_num * (in_num +1))/2),2)\n",
    "    print(f'The Cube Sum of First {in_num} Natural Numbers is {result}')\n",
    "\n",
    "cubeOfNaturalNumbers()"
   ]
  }
 ],
 "metadata": {
  "kernelspec": {
   "display_name": "Python 3 (ipykernel)",
   "language": "python",
   "name": "python3"
  },
  "language_info": {
   "codemirror_mode": {
    "name": "ipython",
    "version": 3
   },
   "file_extension": ".py",
   "mimetype": "text/x-python",
   "name": "python",
   "nbconvert_exporter": "python",
   "pygments_lexer": "ipython3",
   "version": "3.9.12"
  }
 },
 "nbformat": 4,
 "nbformat_minor": 5
}
