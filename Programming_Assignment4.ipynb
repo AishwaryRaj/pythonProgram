{
 "cells": [
  {
   "cell_type": "markdown",
   "id": "77e7ba63",
   "metadata": {},
   "source": [
    "# Programming_Assignment4"
   ]
  },
  {
   "cell_type": "markdown",
   "id": "ffa36e7f",
   "metadata": {},
   "source": [
    "#Q1.Write a Python Program to find the factorial of a number ?"
   ]
  },
  {
   "cell_type": "code",
   "execution_count": 2,
   "id": "ede0558b",
   "metadata": {},
   "outputs": [
    {
     "name": "stdout",
     "output_type": "stream",
     "text": [
      "Enter a number: 4\n",
      "The Factorial of 4 is 24\n"
     ]
    }
   ],
   "source": [
    "def factorial(num):\n",
    "    if (num < 1):\n",
    "        return 1\n",
    "    else:\n",
    "        return num*factorial(num-1)\n",
    "num = int(input('Enter a number: '))\n",
    "value = factorial(num)\n",
    "print(f'The Factorial of {num} is {value}')"
   ]
  },
  {
   "cell_type": "markdown",
   "id": "d473c7bc",
   "metadata": {},
   "source": [
    "#Q2.Write a Python Program to display the multiplication table ?"
   ]
  },
  {
   "cell_type": "code",
   "execution_count": 4,
   "id": "79930f87",
   "metadata": {},
   "outputs": [
    {
     "name": "stdout",
     "output_type": "stream",
     "text": [
      "Enter a number: 7\n",
      "Enter no of entries: 10\n",
      "7 X 1 = 7\n",
      "7 X 2 = 14\n",
      "7 X 3 = 21\n",
      "7 X 4 = 28\n",
      "7 X 5 = 35\n",
      "7 X 6 = 42\n",
      "7 X 7 = 49\n",
      "7 X 8 = 56\n",
      "7 X 9 = 63\n",
      "7 X 10 = 70\n"
     ]
    }
   ],
   "source": [
    "def generateTable(base,entries):\n",
    "    for x in range(1,entries+1):\n",
    "        print(f'{base} X {x} = {base*x}')\n",
    "\n",
    "num = int(input('Enter a number: '))\n",
    "values = int(input('Enter no of entries: '))\n",
    "generateTable(num,values)"
   ]
  },
  {
   "cell_type": "markdown",
   "id": "f16a0b54",
   "metadata": {},
   "source": [
    "#Q3.Write a Python Program to print the fibonacci sequence ?"
   ]
  },
  {
   "cell_type": "code",
   "execution_count": 9,
   "id": "1b7a2f1e",
   "metadata": {},
   "outputs": [
    {
     "name": "stdout",
     "output_type": "stream",
     "text": [
      "Enter the value of n: 9\n",
      "0 1 1 2 3 5 8 13 21 "
     ]
    },
    {
     "data": {
      "text/plain": [
       "21"
      ]
     },
     "execution_count": 9,
     "metadata": {},
     "output_type": "execute_result"
    }
   ],
   "source": [
    "fib_series = [0, 1] # 0 and 1 are the initial default values\n",
    "def fib(n):\n",
    "    if n<= len(fib_series):\n",
    "        return fib_series[n-1]\n",
    "\n",
    "    else:\n",
    "        next_number = fib(n-1)+fib(n-2)\n",
    "        fib_series.append(next_number)\n",
    "        print((next_number),end=' ')\n",
    "        return next_number\n",
    "\n",
    "n = int(input(\"Enter the value of n: \"))\n",
    "print(0, 1, end=\" \") #initial default values\n",
    "fib(n)\n"
   ]
  },
  {
   "cell_type": "markdown",
   "id": "85ebeecf",
   "metadata": {},
   "source": [
    "#Q4.Write a Python Program to check Armstrong number ?"
   ]
  },
  {
   "cell_type": "code",
   "execution_count": 4,
   "id": "bfc20c5e",
   "metadata": {},
   "outputs": [
    {
     "name": "stdout",
     "output_type": "stream",
     "text": [
      "Please enter a number 153\n",
      "153 is an Armstrong Number \n"
     ]
    }
   ],
   "source": [
    "def checkArmstrongNumber(number):\n",
    "    m = len(str(number))\n",
    "    temp = number\n",
    "    add_sum = 0\n",
    "    while temp!=0:\n",
    "        #get the last digit in the number\n",
    "        k = temp%10 \n",
    "        #find k^m\n",
    "        add_sum +=k**m \n",
    "        #floor division \n",
    "        #which update number with second last digit as last digit\n",
    "        temp = temp//10 \n",
    "    if add_sum==number:\n",
    "        print(f'{number} is an Armstrong Number ')\n",
    "    else:\n",
    "        print(f'{number} is not an Armstrong Number')\n",
    "        \n",
    "checkArmstrongNumber(int(input(\"Please enter a number \")))"
   ]
  },
  {
   "cell_type": "markdown",
   "id": "c4d5d195",
   "metadata": {},
   "source": [
    "#Q5.Write a Python Program to Find Armstrong number in an interval ?"
   ]
  },
  {
   "cell_type": "code",
   "execution_count": 9,
   "id": "9e96131c",
   "metadata": {},
   "outputs": [
    {
     "name": "stdout",
     "output_type": "stream",
     "text": [
      "Please enter lower range 1\n",
      "Please input upper range 10000\n",
      "1 2 3 4 5 6 7 8 9 153 370 371 407 1634 8208 9474 "
     ]
    }
   ],
   "source": [
    "def FindArmstrongNumber(lower,  upper):\n",
    "\n",
    "    for num in range(lower, upper + 1):\n",
    "\n",
    "        # order of number\n",
    "        order = len(str(num))\n",
    "    \n",
    "        # initialize sum\n",
    "        sum = 0\n",
    "\n",
    "        temp = num\n",
    "        while temp > 0:\n",
    "            digit = temp % 10\n",
    "            sum += digit ** order\n",
    "            temp //= 10\n",
    "\n",
    "        if num == sum:\n",
    "            print(num ,end = \" \")\n",
    "            \n",
    "            \n",
    "\n",
    "a = int(input(\"Please enter lower range \"))\n",
    "b = int(input(\"Please input upper range \"))\n",
    "FindArmstrongNumber(a,b)"
   ]
  },
  {
   "cell_type": "markdown",
   "id": "1038d81f",
   "metadata": {},
   "source": [
    "#Q6.Write a Python Program to sum of natural numbers ?"
   ]
  },
  {
   "cell_type": "code",
   "execution_count": 12,
   "id": "f51bb28f",
   "metadata": {},
   "outputs": [
    {
     "name": "stdout",
     "output_type": "stream",
     "text": [
      "Enter a number: 3\n",
      "Sum of 0 natural numbers is 6\n"
     ]
    }
   ],
   "source": [
    "def sumOfNaturalNumbers(num):\n",
    "    if num < 0:\n",
    "        print(\"Enter a positive number\")\n",
    "    else:\n",
    "        sum = 0\n",
    "        # use while loop to iterate until zero\n",
    "        while(num > 0):\n",
    "            sum += num\n",
    "            num -= 1\n",
    "        print(f'Sum of {num} natural numbers is {sum}')\n",
    "    \n",
    "num = int(input('Enter a number: '))\n",
    "sumOfNaturalNumbers(num)"
   ]
  }
 ],
 "metadata": {
  "kernelspec": {
   "display_name": "Python 3 (ipykernel)",
   "language": "python",
   "name": "python3"
  },
  "language_info": {
   "codemirror_mode": {
    "name": "ipython",
    "version": 3
   },
   "file_extension": ".py",
   "mimetype": "text/x-python",
   "name": "python",
   "nbconvert_exporter": "python",
   "pygments_lexer": "ipython3",
   "version": "3.9.12"
  }
 },
 "nbformat": 4,
 "nbformat_minor": 5
}
