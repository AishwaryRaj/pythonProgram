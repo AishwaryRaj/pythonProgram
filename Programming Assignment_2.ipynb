{
 "cells": [
  {
   "cell_type": "markdown",
   "id": "62f1cdbb",
   "metadata": {},
   "source": [
    "# Programming Assignment_2"
   ]
  },
  {
   "cell_type": "markdown",
   "id": "bf215528",
   "metadata": {},
   "source": [
    "1. Write a Python program to convert kilometers to miles?"
   ]
  },
  {
   "cell_type": "code",
   "execution_count": 7,
   "id": "e01d72c4",
   "metadata": {},
   "outputs": [
    {
     "name": "stdout",
     "output_type": "stream",
     "text": [
      "Enter value in kilometers: 300\n",
      "300.0 kilometers is equal to 186.4113 miles\n"
     ]
    }
   ],
   "source": [
    "# Taking kilometers input from the user\n",
    "kilometers = float(input(\"Enter value in kilometers: \"))\n",
    "\n",
    "# conversion factor\n",
    "conv_fac = 0.621371\n",
    "\n",
    "# calculate miles\n",
    "miles = kilometers * conv_fac\n",
    "print (str(kilometers) +\" kilometers is equal to \" + str(miles) + \" miles\")"
   ]
  },
  {
   "cell_type": "markdown",
   "id": "c3060190",
   "metadata": {},
   "source": [
    "2. Write a Python program to convert Celsius to Fahrenheit?"
   ]
  },
  {
   "cell_type": "code",
   "execution_count": 1,
   "id": "7a7cc7fb",
   "metadata": {},
   "outputs": [
    {
     "name": "stdout",
     "output_type": "stream",
     "text": [
      " Enter the vlaue in Celsius 37\n",
      "37°C is equal to 98.6°F\n"
     ]
    }
   ],
   "source": [
    "def celsius_to_fahrenheit(C):\n",
    "    fah = (C * 9/5) + 32\n",
    "    print(\"{}°C is equal to {}°F\".format(C,fah))\n",
    "b =  int(input(\" Enter the vlaue in Celsius \"))\n",
    "celsius_to_fahrenheit(b)"
   ]
  },
  {
   "cell_type": "markdown",
   "id": "5f8fd465",
   "metadata": {},
   "source": [
    "3. Write a Python program to display calendar?"
   ]
  },
  {
   "cell_type": "code",
   "execution_count": 2,
   "id": "46f1fcc8",
   "metadata": {},
   "outputs": [
    {
     "name": "stdout",
     "output_type": "stream",
     "text": [
      " Enter the year 1993\n",
      " Enter the month 7\n",
      "     July 1993\n",
      "Mo Tu We Th Fr Sa Su\n",
      "          1  2  3  4\n",
      " 5  6  7  8  9 10 11\n",
      "12 13 14 15 16 17 18\n",
      "19 20 21 22 23 24 25\n",
      "26 27 28 29 30 31\n",
      "\n"
     ]
    }
   ],
   "source": [
    "import calendar\n",
    "def display_calender(year,month):\n",
    "    print(calendar.month(year,month))\n",
    "b,c =  int(input(\" Enter the year \")), int(input(\" Enter the month \"))\n",
    "display_calender(b,c)"
   ]
  },
  {
   "cell_type": "markdown",
   "id": "b74a0e29",
   "metadata": {},
   "source": [
    "4. Write a Python program to solve quadratic equation?"
   ]
  },
  {
   "cell_type": "code",
   "execution_count": 8,
   "id": "b8b5bce7",
   "metadata": {},
   "outputs": [
    {
     "name": "stdout",
     "output_type": "stream",
     "text": [
      "Enter num_1: 3\n",
      "Enter num_2: 6\n",
      "Enter num_3: 6\n",
      "Quadratic Equation is: 3x^2+6x+6=0\n",
      "Two possible values of our quadratic equation are (-1+1j) and (-1-1j)\n"
     ]
    }
   ],
   "source": [
    "# ax^2+bx+c=0\n",
    "a = int(input(\"Enter num_1: \"))\n",
    "if a==0:\n",
    "    print(\"a should not be equal to Zero\")\n",
    "else:    \n",
    "\n",
    "    b = int(input(\"Enter num_2: \"))\n",
    "\n",
    "    c = int(input(\"Enter num_3: \"))\n",
    "\n",
    "\n",
    "    print(\"Quadratic Equation is: {}x^2+{}x+{}=0\".format(a,b,c))\n",
    "\n",
    "    r = b**2 - 4*a*c\n",
    "    x1 = (((-b) + r**0.5)/(2*a))\n",
    "    x2 = (((-b) - r**0.5)/(2*a))\n",
    "    print(\"Two possible values of our quadratic equation are {} and {}\".format(x1,x2))"
   ]
  },
  {
   "cell_type": "markdown",
   "id": "718af905",
   "metadata": {},
   "source": [
    "5. Write a Python program to swap two variables without temp variable?"
   ]
  },
  {
   "cell_type": "code",
   "execution_count": 10,
   "id": "e2fed938",
   "metadata": {},
   "outputs": [
    {
     "name": "stdout",
     "output_type": "stream",
     "text": [
      "Enter first value: 2\n",
      "Enter second value: 5\n",
      "before swapping a = 2 and b = 5\n",
      "after swapping a = 5 and b = 2\n"
     ]
    }
   ],
   "source": [
    "a = int(input(\"Enter first value: \"))\n",
    "b = int(input(\"Enter second value: \"))\n",
    "\n",
    "print('before swapping a = {} and b = {}'.format(a,b))\n",
    "\n",
    "a = a+b\n",
    "b = a-b\n",
    "a = a-b\n",
    "\n",
    "print('after swapping a = {} and b = {}'.format(a,b))"
   ]
  }
 ],
 "metadata": {
  "kernelspec": {
   "display_name": "Python 3 (ipykernel)",
   "language": "python",
   "name": "python3"
  },
  "language_info": {
   "codemirror_mode": {
    "name": "ipython",
    "version": 3
   },
   "file_extension": ".py",
   "mimetype": "text/x-python",
   "name": "python",
   "nbconvert_exporter": "python",
   "pygments_lexer": "ipython3",
   "version": "3.9.12"
  }
 },
 "nbformat": 4,
 "nbformat_minor": 5
}
