{
 "cells": [
  {
   "cell_type": "markdown",
   "id": "cc7a3a84",
   "metadata": {},
   "source": [
    "# Programming_Assignment7"
   ]
  },
  {
   "cell_type": "markdown",
   "id": "25ddc1fe",
   "metadata": {},
   "source": [
    "#Q1. Write a Python Program to find sum of Array ?"
   ]
  },
  {
   "cell_type": "code",
   "execution_count": 7,
   "id": "969cea20",
   "metadata": {},
   "outputs": [
    {
     "name": "stdout",
     "output_type": "stream",
     "text": [
      "Enter number of elements : 6\n",
      "6\n",
      "7\n",
      "8\n",
      "9\n",
      "10\n",
      "89\n",
      "Sum of all the elements of an array: 129\n"
     ]
    }
   ],
   "source": [
    "def sumOfArray(arr):\n",
    "    sum = 0       \n",
    "    #Looping through the array to calculate sum of elements    \n",
    "    for i in range(0, len(arr)):    \n",
    "        sum = sum + arr[i];    \n",
    "     \n",
    "    print(\"Sum of all the elements of an array: \" + str(sum));\n",
    "    \n",
    "arr = []\n",
    "\n",
    "# number of elements as input\n",
    "n = int(input(\"Enter number of elements : \"))\n",
    "  \n",
    "# iterating till the range\n",
    "for i in range(0, n):\n",
    "    ele = int(input())\n",
    "    arr.append(ele) # adding the element\n",
    "      \n",
    "sumOfArray(arr)"
   ]
  },
  {
   "cell_type": "markdown",
   "id": "61d41760",
   "metadata": {},
   "source": [
    "#Q2. Write a Python Program to find Largest element in an Array ?"
   ]
  },
  {
   "cell_type": "code",
   "execution_count": 8,
   "id": "01c6d3cd",
   "metadata": {},
   "outputs": [
    {
     "name": "stdout",
     "output_type": "stream",
     "text": [
      "Enter the Array: 3,5,6,6,7\n",
      "The Largest Element in (3, 5, 6, 6, 7) is 7\n"
     ]
    }
   ],
   "source": [
    "def largestElement():\n",
    "    in_arr = eval(input(\"Enter the Array: \"))\n",
    "    print(f\"The Largest Element in {in_arr} is {sorted(in_arr, reverse=True)[0]}\")\n",
    "    \n",
    "largestElement()"
   ]
  },
  {
   "cell_type": "markdown",
   "id": "0d961d41",
   "metadata": {},
   "source": [
    "#Q3. Write a Python Program for array rotation ?"
   ]
  },
  {
   "cell_type": "code",
   "execution_count": 9,
   "id": "2f778300",
   "metadata": {},
   "outputs": [
    {
     "name": "stdout",
     "output_type": "stream",
     "text": [
      "Enter the Array: 1,2,3,4,5,5,6,7,8,9\n",
      "The Reverse of Array (1, 2, 3, 4, 5, 5, 6, 7, 8, 9) is (9, 8, 7, 6, 5, 5, 4, 3, 2, 1)\n"
     ]
    }
   ],
   "source": [
    "def reverseOfArray():\n",
    "    in_arr = eval(input(\"Enter the Array: \"))\n",
    "    print(f\"The Reverse of Array {in_arr} is {in_arr[::-1]}\")\n",
    "    \n",
    "reverseOfArray()"
   ]
  },
  {
   "cell_type": "markdown",
   "id": "61ccf988",
   "metadata": {},
   "source": [
    "#Q4. Write a Python Program to Split the array and add the first part to the end ?"
   ]
  },
  {
   "cell_type": "code",
   "execution_count": 18,
   "id": "bd98d64c",
   "metadata": {},
   "outputs": [
    {
     "name": "stdout",
     "output_type": "stream",
     "text": [
      "Enter the position from where to split the array 2\n",
      "Enter the array 1,2,3,4,5,6,7,8,9\n",
      "Output array is (3, 4, 5, 6, 7, 8, 9, 1, 2)\n"
     ]
    }
   ],
   "source": [
    "def split(arr, k):\n",
    "    arr = arr[k:] + arr[:k]\n",
    "    return arr\n",
    "   \n",
    "k = int(input(\"Enter the position from where to split the array \"))\n",
    "arr = eval(input(\"Enter the array \"))\n",
    "print(\"Output array is\", split(arr, k))"
   ]
  },
  {
   "cell_type": "markdown",
   "id": "49bbdde4",
   "metadata": {},
   "source": [
    "#Q5. Write a Python Program to check if given array is Monotonic ?"
   ]
  },
  {
   "cell_type": "code",
   "execution_count": 27,
   "id": "f7ffac46",
   "metadata": {},
   "outputs": [
    {
     "name": "stdout",
     "output_type": "stream",
     "text": [
      "Enter the array 98,89,78,67,56,45,34,23,12\n",
      "Array (98, 89, 78, 67, 56, 45, 34, 23, 12) is Monotonic\n"
     ]
    }
   ],
   "source": [
    "# Check if given array is Monotonic\n",
    "def isMonotonic(A):\n",
    "  \n",
    "    if (all(A[i] <= A[i + 1] for i in range(len(A) - 1)) or\n",
    "            all(A[i] >= A[i + 1] for i in range(len(A) - 1))):\n",
    "         print(f'Array {A} is Monotonic')\n",
    "    else:\n",
    "         print(f'Array {A} is not Monotonic')\n",
    "\n",
    "A = eval(input(\"Enter the array \"))\n",
    "isMonotonic(A)"
   ]
  }
 ],
 "metadata": {
  "kernelspec": {
   "display_name": "Python 3 (ipykernel)",
   "language": "python",
   "name": "python3"
  },
  "language_info": {
   "codemirror_mode": {
    "name": "ipython",
    "version": 3
   },
   "file_extension": ".py",
   "mimetype": "text/x-python",
   "name": "python",
   "nbconvert_exporter": "python",
   "pygments_lexer": "ipython3",
   "version": "3.9.12"
  }
 },
 "nbformat": 4,
 "nbformat_minor": 5
}
