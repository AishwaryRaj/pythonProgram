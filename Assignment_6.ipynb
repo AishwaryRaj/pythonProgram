{
 "cells": [
  {
   "cell_type": "markdown",
   "id": "45160e96",
   "metadata": {},
   "source": [
    "# Assignment_6"
   ]
  },
  {
   "cell_type": "markdown",
   "id": "d7e8f29c",
   "metadata": {},
   "source": [
    "#Q1.What are Escape characters ? and how do you use them ?"
   ]
  },
  {
   "cell_type": "markdown",
   "id": "8e0e0eb4",
   "metadata": {},
   "source": [
    "Ans: Escape characters represent characters in string values that would otherwise be difficult or impossible to type into code. we can use the backslash character to escape a single character or symbol\n",
    "example: \\t, \\n"
   ]
  },
  {
   "cell_type": "markdown",
   "id": "923be506",
   "metadata": {},
   "source": [
    "#Q2.What do the escape characters n and t stand for ?"
   ]
  },
  {
   "cell_type": "markdown",
   "id": "75f1bb83",
   "metadata": {},
   "source": [
    "Ans: \\n is a newline, \\t is a tab"
   ]
  },
  {
   "cell_type": "markdown",
   "id": "a3a81b8c",
   "metadata": {},
   "source": [
    "#Q3.What is the way to include backslash character in a string?"
   ]
  },
  {
   "cell_type": "markdown",
   "id": "1df93585",
   "metadata": {},
   "source": [
    "Ans: The \\\\ escape character will represent the backslash character in a string"
   ]
  },
  {
   "cell_type": "markdown",
   "id": "e5d0c5e8",
   "metadata": {},
   "source": [
    "#Q4.The string \"Howl's Moving Castle\" is a correct value. Why isn't the single quote character in the word Howl's not escaped a problem ?"
   ]
  },
  {
   "cell_type": "markdown",
   "id": "e1fc6716",
   "metadata": {},
   "source": [
    "Ans: The string \"Howl's Moving Castle\" escaped the problem because it is wrapped inside double quotes. if its wrapped inside single quotes then we have to use escape character \\' to show single quote in the final output"
   ]
  },
  {
   "cell_type": "code",
   "execution_count": 2,
   "id": "765f97fe",
   "metadata": {},
   "outputs": [
    {
     "name": "stdout",
     "output_type": "stream",
     "text": [
      "Howl's Moving Castle\n"
     ]
    }
   ],
   "source": [
    "print('Howl\\'s Moving Castle' )"
   ]
  },
  {
   "cell_type": "markdown",
   "id": "68dec9b7",
   "metadata": {},
   "source": [
    "#Q5.How do you write a string of newlines if you don't want to use the n character?"
   ]
  },
  {
   "cell_type": "markdown",
   "id": "096367eb",
   "metadata": {},
   "source": [
    "Ans: Multiline string allow you to use newlines in string without the \\n escape character"
   ]
  },
  {
   "cell_type": "code",
   "execution_count": 3,
   "id": "0af9ffe6",
   "metadata": {},
   "outputs": [
    {
     "name": "stdout",
     "output_type": "stream",
     "text": [
      "Full Stack Blockchain Development course \n",
      "is a live mentor-led certification program with\n",
      "by iNeuron. In this course you will learn the\n",
      "entire stack required to work in Permissionless\n",
      "Blockchain development.\n"
     ]
    }
   ],
   "source": [
    "# Example:\n",
    "a = '''Full Stack Blockchain Development course \n",
    "is a live mentor-led certification program with\n",
    "by iNeuron. In this course you will learn the\n",
    "entire stack required to work in Permissionless\n",
    "Blockchain development.'''\n",
    "print(a)"
   ]
  },
  {
   "cell_type": "markdown",
   "id": "13aac98f",
   "metadata": {},
   "source": [
    "#Q6.What are the values of the given expressions ?\n",
    "'Hello, world!'[1]\n",
    "'Hello, world!'[0:5]\n",
    "'Hello, world!'[:5]\n",
    "'Hello, world!'[3:]"
   ]
  },
  {
   "cell_type": "markdown",
   "id": "32999765",
   "metadata": {},
   "source": [
    "Ans: The values for the given expressions are:\n",
    "'Hello, world!'[1] -> 'e'\n",
    "'Hello, world!'[0:5] -> 'Hello'\n",
    "'Hello, world!'[:5] -> 'Hello'\n",
    "'Hello, world!'[3:] -> 'lo, world!'"
   ]
  },
  {
   "cell_type": "markdown",
   "id": "52a50eb4",
   "metadata": {},
   "source": [
    "#Q7.What are the values of the following expressions ?"
   ]
  },
  {
   "cell_type": "markdown",
   "id": "be8c09fc",
   "metadata": {},
   "source": [
    "'Hello'.upper()\n",
    "'Hello'.upper().isupper()\n",
    "'Hello'.upper().lower()"
   ]
  },
  {
   "cell_type": "markdown",
   "id": "9408790a",
   "metadata": {},
   "source": [
    "Ans: The values for the given expressions are:\n",
    "'Hello'.upper() -> 'HELLO'\n",
    "'Hello'.upper().isupper() -> True\n",
    "'Hello'.upper().lower() -> 'hello'"
   ]
  },
  {
   "cell_type": "code",
   "execution_count": 6,
   "id": "4f0e2a99",
   "metadata": {},
   "outputs": [
    {
     "data": {
      "text/plain": [
       "'HELLO'"
      ]
     },
     "execution_count": 6,
     "metadata": {},
     "output_type": "execute_result"
    }
   ],
   "source": [
    "'Hello'.upper()"
   ]
  },
  {
   "cell_type": "code",
   "execution_count": 7,
   "id": "b75170c5",
   "metadata": {},
   "outputs": [
    {
     "data": {
      "text/plain": [
       "True"
      ]
     },
     "execution_count": 7,
     "metadata": {},
     "output_type": "execute_result"
    }
   ],
   "source": [
    "'Hello'.upper().isupper()"
   ]
  },
  {
   "cell_type": "code",
   "execution_count": 8,
   "id": "a16f2303",
   "metadata": {},
   "outputs": [
    {
     "data": {
      "text/plain": [
       "'hello'"
      ]
     },
     "execution_count": 8,
     "metadata": {},
     "output_type": "execute_result"
    }
   ],
   "source": [
    "'Hello'.upper().lower()"
   ]
  },
  {
   "cell_type": "markdown",
   "id": "063b0d15",
   "metadata": {},
   "source": [
    "#Q8.What are the values of the following expressions ?"
   ]
  },
  {
   "cell_type": "markdown",
   "id": "7927e1cb",
   "metadata": {},
   "source": [
    "'Remember, remember, the fifith of July.'.split()\n",
    "-'.join('There can only one'.split())"
   ]
  },
  {
   "cell_type": "markdown",
   "id": "979af2f9",
   "metadata": {},
   "source": [
    "Ans: The values for the given expressions are:\n",
    "'Remember, remember, the fifith of July.'.split() -> ['Remember,', 'remember,', 'the', 'fifith', 'of', 'July.']\n",
    "'-'.join('There can only one'.split()) -> 'There-can-only-one'"
   ]
  },
  {
   "cell_type": "code",
   "execution_count": 4,
   "id": "e7de4c25",
   "metadata": {},
   "outputs": [
    {
     "data": {
      "text/plain": [
       "['Remember,', 'remember,', 'the', 'fifith', 'of', 'July.']"
      ]
     },
     "execution_count": 4,
     "metadata": {},
     "output_type": "execute_result"
    }
   ],
   "source": [
    "'Remember, remember, the fifith of July.'.split()"
   ]
  },
  {
   "cell_type": "code",
   "execution_count": 5,
   "id": "5222fa63",
   "metadata": {},
   "outputs": [
    {
     "data": {
      "text/plain": [
       "'There-can-only-one'"
      ]
     },
     "execution_count": 5,
     "metadata": {},
     "output_type": "execute_result"
    }
   ],
   "source": [
    "'-'.join('There can only one'.split())"
   ]
  },
  {
   "cell_type": "markdown",
   "id": "def35610",
   "metadata": {},
   "source": [
    "#Q9.What are the methods for right-justifying, left-justifying and centering a string ?"
   ]
  },
  {
   "cell_type": "markdown",
   "id": "d827d473",
   "metadata": {},
   "source": [
    "Ans: The rjust(),ljust(),center() string methods, respectively"
   ]
  },
  {
   "cell_type": "markdown",
   "id": "1b86674d",
   "metadata": {},
   "source": [
    "#Q10.What is the best way to remove whitespace characters from the start or end ?"
   ]
  },
  {
   "cell_type": "markdown",
   "id": "dcfa0ab1",
   "metadata": {},
   "source": [
    "Ans:\t\n",
    "rstrip() method removes whitespace at the end of a string.\n",
    "lstrip() method removes whitespace at the beginning of a string.\n",
    "strip() method removes whitespace at the beginning and end (both sides) of a string."
   ]
  },
  {
   "cell_type": "code",
   "execution_count": 10,
   "id": "48a1f10e",
   "metadata": {},
   "outputs": [
    {
     "name": "stdout",
     "output_type": "stream",
     "text": [
      "Chris Gayle  \n",
      "  Chris Gayle\n",
      "Chris Gayle\n"
     ]
    }
   ],
   "source": [
    "name = '  Chris Gayle  '\n",
    "#remove spaces from left\n",
    "print (name.lstrip())\n",
    "\n",
    "#remove spaces from right\n",
    "print (name.rstrip())\n",
    "\n",
    "#remove spaces from both side\n",
    "print (name.strip())"
   ]
  }
 ],
 "metadata": {
  "kernelspec": {
   "display_name": "Python 3 (ipykernel)",
   "language": "python",
   "name": "python3"
  },
  "language_info": {
   "codemirror_mode": {
    "name": "ipython",
    "version": 3
   },
   "file_extension": ".py",
   "mimetype": "text/x-python",
   "name": "python",
   "nbconvert_exporter": "python",
   "pygments_lexer": "ipython3",
   "version": "3.9.12"
  }
 },
 "nbformat": 4,
 "nbformat_minor": 5
}
