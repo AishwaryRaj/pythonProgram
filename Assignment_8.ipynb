{
 "cells": [
  {
   "cell_type": "markdown",
   "id": "bff11d89",
   "metadata": {},
   "source": [
    "# Assignment_8"
   ]
  },
  {
   "cell_type": "markdown",
   "id": "6a39372f",
   "metadata": {},
   "source": [
    "#Q1. Is the Python Standard Library included with PyInputPlus?"
   ]
  },
  {
   "cell_type": "markdown",
   "id": "959d35e7",
   "metadata": {},
   "source": [
    "Ans: No, PyInputPlus is not a part of Python Standard Library, it needs to be installed explicitly using the command !pip install PyInputPlus"
   ]
  },
  {
   "cell_type": "markdown",
   "id": "181e02b9",
   "metadata": {},
   "source": [
    "#Q2. Why is PyInputPlus commonly imported with import pyinputplus as pypi?"
   ]
  },
  {
   "cell_type": "markdown",
   "id": "ad54f3b9",
   "metadata": {},
   "source": [
    "Ans: You can import the module with import pyinputplus as pyip so that you can enter a shorter name when calling the module's functions."
   ]
  },
  {
   "cell_type": "markdown",
   "id": "bfc6a9e2",
   "metadata": {},
   "source": [
    "#Q3. How do you distinguish between inputInt() and inputFloat()?"
   ]
  },
  {
   "cell_type": "markdown",
   "id": "0fc44eea",
   "metadata": {},
   "source": [
    "Ans: inputInt() function Accepts an integer value. This also takes additional parameters min, max, greaterThan and lessThan for bounds. And it always returns an int.\n",
    "Whereas inputFloat() function Accepts a floating-point numeric value. this also takes additional min, max, greaterThan and lessThan parameters. and always returns a float."
   ]
  },
  {
   "cell_type": "markdown",
   "id": "b78f58af",
   "metadata": {},
   "source": [
    "#Q4. Using PyInputPlus, how do you ensure that the user enters a whole number between 0 and 99?"
   ]
  },
  {
   "cell_type": "markdown",
   "id": "f4669088",
   "metadata": {},
   "source": [
    "Ans: PyInputPlus module provides a function called as inputInt() which only returns only integer values. inorder to restrict the input between 0 and 99, i'ii use parameters like min & max to ensure that user enters the values between the defined range only."
   ]
  },
  {
   "cell_type": "code",
   "execution_count": null,
   "id": "3238527e",
   "metadata": {},
   "outputs": [],
   "source": [
    "import pyinputplus as pyip\n",
    "wholenumber = pyip.inputInt(prompt='Enter a number: ', min=0, max=100)\n",
    "print(wholenumber)"
   ]
  },
  {
   "cell_type": "markdown",
   "id": "1e37c1f7",
   "metadata": {},
   "source": [
    "#Q5. What is transferred to the keyword arguments allowRegexes and blockRegexes?"
   ]
  },
  {
   "cell_type": "markdown",
   "id": "e5ae710f",
   "metadata": {},
   "source": [
    "Ans: we can use allowRegexes and blockRegexes keyword arguments to take list of regular expression strings to determine what the pyinputplus function will reject or accept valid input."
   ]
  },
  {
   "cell_type": "markdown",
   "id": "7b766b1a",
   "metadata": {},
   "source": [
    "#Q6. If a blank input is entered three times, what does inputStr(limit=3) do?"
   ]
  },
  {
   "cell_type": "markdown",
   "id": "575190bc",
   "metadata": {},
   "source": [
    "Ans: The statement inputStr(limit=3) will throw two exceptions ValidationException and RetryLimitException. The first exception is thrown because blank values are not allowed by inputStr() function by default. it we want to consider blank values as valid input, we have to set blank=True.\n",
    "\n",
    "The second exception is occured because we have reached the max limit we have specified by using limit parameter. inorder to avoid this exception we can use default parameter to return a default value when max limit is reached."
   ]
  },
  {
   "cell_type": "markdown",
   "id": "0901968e",
   "metadata": {},
   "source": [
    "#Q7. If blank input is entered three times, what does inputStr(limit=3, default='hello') do?"
   ]
  },
  {
   "cell_type": "markdown",
   "id": "cfb7b248",
   "metadata": {},
   "source": [
    "Ans: Since the default parameter is set to hello. after blank input is entered three times instead of raising RetryLimitException exception. the function will return hello as response to the calling function"
   ]
  }
 ],
 "metadata": {
  "kernelspec": {
   "display_name": "Python 3 (ipykernel)",
   "language": "python",
   "name": "python3"
  },
  "language_info": {
   "codemirror_mode": {
    "name": "ipython",
    "version": 3
   },
   "file_extension": ".py",
   "mimetype": "text/x-python",
   "name": "python",
   "nbconvert_exporter": "python",
   "pygments_lexer": "ipython3",
   "version": "3.9.12"
  }
 },
 "nbformat": 4,
 "nbformat_minor": 5
}
