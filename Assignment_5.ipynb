{
 "cells": [
  {
   "cell_type": "markdown",
   "id": "f3a5ee49",
   "metadata": {},
   "source": [
    "# Assignment_5"
   ]
  },
  {
   "cell_type": "markdown",
   "id": "548a0159",
   "metadata": {},
   "source": [
    "#Q1.What does an empty dictionary's code look like?"
   ]
  },
  {
   "cell_type": "markdown",
   "id": "5e1808ac",
   "metadata": {},
   "source": [
    "Ans: An empty dictionary is often represented by two empty curly brackets\n",
    "d = {} or d = dict()"
   ]
  },
  {
   "cell_type": "markdown",
   "id": "58d7d383",
   "metadata": {},
   "source": [
    "#Q2.what is the value of dictionary value with key 'foo' and the value 42 ?"
   ]
  },
  {
   "cell_type": "markdown",
   "id": "86546381",
   "metadata": {},
   "source": [
    "Ans: {'foo':42}"
   ]
  },
  {
   "cell_type": "markdown",
   "id": "3c8def55",
   "metadata": {},
   "source": [
    "#Q3.What is the most significant distinction between a dictionary and a list?"
   ]
  },
  {
   "cell_type": "markdown",
   "id": "3766b30a",
   "metadata": {},
   "source": [
    "Ans: Dictionary is represented by {} where as list is represented by []\n",
    "The Items stored in a dictionary are Unordered , while the items in a list are ordered"
   ]
  },
  {
   "cell_type": "markdown",
   "id": "e553d4c2",
   "metadata": {},
   "source": [
    "#Q4.What happens if you try to access spam ['foo'] if spam is {'bar':100} ?"
   ]
  },
  {
   "cell_type": "markdown",
   "id": "bc75d8dd",
   "metadata": {},
   "source": [
    "Ans: we will get a keyError KeyError: 'foo'"
   ]
  },
  {
   "cell_type": "markdown",
   "id": "d24bddd3",
   "metadata": {},
   "source": [
    "#Q5.If a dictionary is stored in spam,what is the difference between the expressions 'cat' in spam and 'cat' in spam.keys() ?"
   ]
  },
  {
   "cell_type": "markdown",
   "id": "ac41a0ba",
   "metadata": {},
   "source": [
    "Ans: There is no difference . The operator checks whether a value exits as a key in the dictionary or not"
   ]
  },
  {
   "cell_type": "markdown",
   "id": "cd3b4078",
   "metadata": {},
   "source": [
    "#Q6.If a dictionary is stored in spam,what is the difference between the expressions 'cat' in spam and 'cat' in spam.values() ?"
   ]
  },
  {
   "cell_type": "markdown",
   "id": "493117bd",
   "metadata": {},
   "source": [
    "Ans:'cat' in spam checks whether there is a 'cat' key in the dictionary, while 'cat' in spam.values() checks whether there is a value 'cat' for one of the keys in spam."
   ]
  },
  {
   "cell_type": "markdown",
   "id": "093a4d91",
   "metadata": {},
   "source": [
    "#Q7.what is a shortcut for the following code ?\n",
    "if 'color' not in spam:\n",
    "    spam['color'] ='black'"
   ]
  },
  {
   "cell_type": "markdown",
   "id": "de8ffa32",
   "metadata": {},
   "source": [
    "Ans: spam.setdefault('color','black')"
   ]
  },
  {
   "cell_type": "markdown",
   "id": "a993f548",
   "metadata": {},
   "source": [
    "#Q8.How do you 'pretty print' dictionary values using which modules and function ?"
   ]
  },
  {
   "cell_type": "code",
   "execution_count": null,
   "id": "e5816f8e",
   "metadata": {},
   "outputs": [],
   "source": [
    "Ans: we can pretty print a dictionary using three functions\n",
    "\n",
    "1. by using pprint() function of pprint module\n",
    "Note: pprint() function doesnot prettify nested dictionaries\n",
    "2. by using dumps() method of json module\n",
    "3. by using dumps() method of yaml module"
   ]
  }
 ],
 "metadata": {
  "kernelspec": {
   "display_name": "Python 3 (ipykernel)",
   "language": "python",
   "name": "python3"
  },
  "language_info": {
   "codemirror_mode": {
    "name": "ipython",
    "version": 3
   },
   "file_extension": ".py",
   "mimetype": "text/x-python",
   "name": "python",
   "nbconvert_exporter": "python",
   "pygments_lexer": "ipython3",
   "version": "3.9.12"
  }
 },
 "nbformat": 4,
 "nbformat_minor": 5
}
