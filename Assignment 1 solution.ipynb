{
 "cells": [
  {
   "cell_type": "raw",
   "id": "2da0a009",
   "metadata": {},
   "source": [
    "# question 1."
   ]
  },
  {
   "cell_type": "raw",
   "id": "ee2a69d2",
   "metadata": {},
   "source": [
    " *       expression"
   ]
  },
  {
   "cell_type": "raw",
   "id": "7d0d5645",
   "metadata": {},
   "source": [
    "'hello'  value"
   ]
  },
  {
   "cell_type": "raw",
   "id": "9005fa31",
   "metadata": {},
   "source": [
    "-87.8    value"
   ]
  },
  {
   "cell_type": "raw",
   "id": "3f96c0eb",
   "metadata": {},
   "source": [
    "-        expression"
   ]
  },
  {
   "cell_type": "raw",
   "id": "cb9f6ec3",
   "metadata": {},
   "source": [
    "/        expression"
   ]
  },
  {
   "cell_type": "raw",
   "id": "bb905682",
   "metadata": {},
   "source": [
    "+        expression"
   ]
  },
  {
   "cell_type": "raw",
   "id": "eee2f777",
   "metadata": {},
   "source": [
    "6        value"
   ]
  },
  {
   "cell_type": "raw",
   "id": "0d4334d2",
   "metadata": {},
   "source": [
    "# question 2. what is the difference between string and variable?"
   ]
  },
  {
   "cell_type": "raw",
   "id": "81ccac43",
   "metadata": {},
   "source": [
    "A Variable is a store of information in a reserved memory location, and a String is a type of information you would store in a Variable. A String is usually words, enclosed with \"\"\n",
    "\n",
    "Eg\n",
    "String x =\"Welcome to SoloLearn\"\n",
    "X is the Variable, and we declared it as a String, use the single = to assign the text to it."
   ]
  },
  {
   "cell_type": "raw",
   "id": "63dce2ea",
   "metadata": {},
   "source": [
    "# question 3. Describe three different data types."
   ]
  },
  {
   "cell_type": "markdown",
   "id": "03fb1d99",
   "metadata": {},
   "source": [
    "boolean data type:\n",
    "The python data type bool is used to store two values i.e True and False.\n",
    "\n",
    "Bool is used to test whether the result of an expression is true or false.\n",
    "\n",
    "Syntax\n",
    "To check the boolean value of an expression or a variable\n",
    "\n",
    "print(bool(expression))\n",
    "or\n",
    "print(expression)\n",
    "\n",
    "default value of a boolean variable is False\n",
    "eg. boolx = True"
   ]
  },
  {
   "cell_type": "markdown",
   "id": "0d8b0213",
   "metadata": {},
   "source": [
    "string data type:\n",
    "A string data type is traditionally a sequence of characters, either as a literal constant or as some kind of variable. The latter may allow its elements to be mutated and the length changed, or it may be fixed (after creation). A string is generally considered a data type and is often implemented as an array data structure of bytes (or words) that stores a sequence of elements, typically characters, using some character encoding.\n",
    "eg. s = \"Hello world\""
   ]
  },
  {
   "cell_type": "markdown",
   "id": "bf228ddc",
   "metadata": {},
   "source": [
    "Set data type:\n",
    "Set is the unordered collection of the data type.\n",
    "It is iterable, mutable(can modify after creation), and has unique elements. \n",
    "In set, the order of the elements is undefined; it may return the changed sequence of the element.\n",
    "The set is created by using a built-in function set(), or a sequence of elements is passed in the curly braces and separated\n",
    "by the comma.\n",
    "It can contain various types of values.\n",
    "eg. x = (2, 4, 5, 6, 7)"
   ]
  },
  {
   "cell_type": "markdown",
   "id": "d34c57ce",
   "metadata": {},
   "source": [
    "#question 4. What is an expression made up of? What do all expressions do?"
   ]
  },
  {
   "cell_type": "markdown",
   "id": "f3d0a2c4",
   "metadata": {},
   "source": [
    "An expression is a combination of values, variables, operators, and calls to functions(operators and operands) that is interpreted to produce some other value. In any programming language, an expression is evaluated as per the precedence of its operators. So that if there is more than one operator in an expression, their precedence decides which operation will be performed first.\n",
    "Expressions need to be evaluated. If we ask Python to print an expression, the interpreter evaluates the expression and displays the result.\n",
    "eg.\n",
    "a = 21\n",
    "b = 13\n",
    "c = 40\n",
    "d = 37\n",
    "  \n",
    "p = (a + b) >= (c - d)\n",
    "print(p)"
   ]
  },
  {
   "cell_type": "markdown",
   "id": "2669ff6c",
   "metadata": {},
   "source": [
    "#question 5. This assignment statements, like spam = 10. What is the difference between an\n",
    "expression and a statement?"
   ]
  },
  {
   "cell_type": "markdown",
   "id": "9a584f0b",
   "metadata": {},
   "source": [
    "An “expression” is a combination of values and functions that are combined and interpreted by the compiler to create a new value, as opposed to a “statement” which is just a standalone unit of execution and doesn't return anything."
   ]
  },
  {
   "cell_type": "markdown",
   "id": "fbb26dc9",
   "metadata": {},
   "source": [
    "#question 6. After running the following code, what does the variable bacon contain?\n",
    "bacon = 22\n",
    "bacon + 1"
   ]
  },
  {
   "cell_type": "markdown",
   "id": "cd3fe2c4",
   "metadata": {},
   "source": [
    "bacon contains 22"
   ]
  },
  {
   "cell_type": "markdown",
   "id": "2ab1aee7",
   "metadata": {},
   "source": [
    "#question 7. What should the values of the following two terms be?\n",
    "'spam' + 'spamspam'\n",
    "'spam' * 3"
   ]
  },
  {
   "cell_type": "markdown",
   "id": "4355844f",
   "metadata": {},
   "source": [
    "'spamspamspam'"
   ]
  },
  {
   "cell_type": "markdown",
   "id": "5f87fb97",
   "metadata": {},
   "source": [
    "#question 8. Why is eggs a valid variable name while 100 is invalid? "
   ]
  },
  {
   "cell_type": "markdown",
   "id": "2e5ce7e8",
   "metadata": {},
   "source": [
    "because we can't start giving variable an integer name . if we, we should begin with, a string-like alphabet name then integer. e100 or eggs100 is valid"
   ]
  },
  {
   "cell_type": "markdown",
   "id": "693dc70b",
   "metadata": {},
   "source": [
    "#question 9. What three functions can be used to get the integer, floating-point number, or string\n",
    "version of a value?"
   ]
  },
  {
   "cell_type": "markdown",
   "id": "27241394",
   "metadata": {},
   "source": [
    " str(), int(), float()"
   ]
  },
  {
   "cell_type": "markdown",
   "id": "121ec9fd",
   "metadata": {},
   "source": [
    "#question 10. Why does this expression cause an error? How can you fix it?\n",
    "'I have eaten ' + 99 + ' burritos.'"
   ]
  },
  {
   "cell_type": "markdown",
   "id": "cc1f7bb3",
   "metadata": {},
   "source": [
    "because 99 is an integer it cannot be concatenated with strings, if we have to concatenate it we need to do typecasting.\n",
    "'I have eaten ' + str(99) + ' burritos.'"
   ]
  }
 ],
 "metadata": {
  "kernelspec": {
   "display_name": "Python 3 (ipykernel)",
   "language": "python",
   "name": "python3"
  },
  "language_info": {
   "codemirror_mode": {
    "name": "ipython",
    "version": 3
   },
   "file_extension": ".py",
   "mimetype": "text/x-python",
   "name": "python",
   "nbconvert_exporter": "python",
   "pygments_lexer": "ipython3",
   "version": "3.9.12"
  }
 },
 "nbformat": 4,
 "nbformat_minor": 5
}
