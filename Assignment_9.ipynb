{
 "cells": [
  {
   "cell_type": "markdown",
   "id": "d2000a0e",
   "metadata": {},
   "source": [
    "# Assignment_9"
   ]
  },
  {
   "cell_type": "markdown",
   "id": "41e74c64",
   "metadata": {},
   "source": [
    "#Q1.To what does a relative path refer ?"
   ]
  },
  {
   "cell_type": "markdown",
   "id": "2692ca0c",
   "metadata": {},
   "source": [
    "Ans: The relative path is the path to some file with respect to your current working directory (PWD).\n",
    "For example: if Absolute path to a file called stuff.txt is: C:/users/admin/docs/stuff.txt If my PWD is C:/users/admin/ , then the relative path to stuff.txt would be: docs/stuff.txt\n",
    "Note: PWD + relative path = absolute path"
   ]
  },
  {
   "cell_type": "markdown",
   "id": "1b7e2d35",
   "metadata": {},
   "source": [
    "#Q2.Where does an absolute path start with your Operating System ?"
   ]
  },
  {
   "cell_type": "markdown",
   "id": "c6c922c2",
   "metadata": {},
   "source": [
    "Ans: In Linux based systems the absolute path starts with /. Where as in Windows based systems absolute path starts with C:"
   ]
  },
  {
   "cell_type": "markdown",
   "id": "04ff5bf3",
   "metadata": {},
   "source": [
    "#Q3.What does the functions os.getcwd() and os.chdir() do ?"
   ]
  },
  {
   "cell_type": "markdown",
   "id": "d445fc31",
   "metadata": {},
   "source": [
    "Ans: os.getcwd() method tells us the location of current working directory (CWD). Whereas os.chdir() method in Python used to change the current working directory to specified path. These functions are similar to linux commands pwd and cd"
   ]
  },
  {
   "cell_type": "code",
   "execution_count": 2,
   "id": "04d1bc28",
   "metadata": {},
   "outputs": [
    {
     "name": "stdout",
     "output_type": "stream",
     "text": [
      "C:\\Users\\AISHWARY\n",
      "C:\\Users\\AISHWARY\n"
     ]
    }
   ],
   "source": [
    "import os\n",
    "print(os.getcwd()) # Prints the current Working Directory\n",
    "path = r'C:\\Users\\AISHWARY'\n",
    "os.chdir(path)\n",
    "print(os.getcwd())"
   ]
  },
  {
   "cell_type": "markdown",
   "id": "3d0524bc",
   "metadata": {},
   "source": [
    "#Q4.What are . and .. folders ?"
   ]
  },
  {
   "cell_type": "markdown",
   "id": "92e05bae",
   "metadata": {},
   "source": [
    "Ans: . Represents the Current Directory Whereas .. Represents the Parent Directory of the Current Directory\n"
   ]
  },
  {
   "cell_type": "markdown",
   "id": "e0d85527",
   "metadata": {},
   "source": [
    "#Q5.In C:\\bacon\\eggs\\spam.txt which part is the dir name and which part is the base name ?"
   ]
  },
  {
   "cell_type": "markdown",
   "id": "ec62d003",
   "metadata": {},
   "source": [
    "Ans: For C:\\bacon\\eggs\\spam.txt\n",
    "The dir name is C:\\\\bacon\\\\eggs\n",
    "The Base name is spam.txt"
   ]
  },
  {
   "cell_type": "code",
   "execution_count": 3,
   "id": "76131348",
   "metadata": {},
   "outputs": [
    {
     "name": "stdout",
     "output_type": "stream",
     "text": [
      "C:\\bacon\\eggs\n",
      "spam.txt\n"
     ]
    }
   ],
   "source": [
    "import os\n",
    "path = r'C:\\bacon\\eggs\\spam.txt'\n",
    "print(os.path.dirname(path))\n",
    "print(os.path.basename(path))"
   ]
  },
  {
   "cell_type": "markdown",
   "id": "17a38f4e",
   "metadata": {},
   "source": [
    "#Q6.What are the three mode arguments that can be passed to the open() function ?"
   ]
  },
  {
   "cell_type": "markdown",
   "id": "8aeec96e",
   "metadata": {},
   "source": [
    "Ans: A file can be Accessed in python using open() function. open function takes two arguments filename and mode of operation (optional). if mode is not provided the default mode of opening is read mode\n",
    "So, the syntax being: open(filename, mode)\n",
    "\n",
    "‘r’ – Read Mode: This is the default mode for open(). The file is opened and a pointer is positioned at the beginning of the file’s content.\n",
    "‘w’ – Write Mode: Using this mode will overwrite any existing content in a file. If the given file does not exist, a new one will be created.\n",
    "‘r+’ – Read/Write Mode: Use this mode if you need to simultaneously read and write to a file.\n",
    "‘a’ – Append Mode: With this mode the user can append the data without overwriting any already existing data in the file.\n",
    "‘a+’ – Append and Read Mode: In this mode you can read and append the data without overwriting the original file.\n",
    "‘x’ – Exclusive Creating Mode: This mode is for the sole purpose of creating new files. Use this mode if you know the file to be written doesn’t exist beforehand."
   ]
  },
  {
   "cell_type": "markdown",
   "id": "b700faa1",
   "metadata": {},
   "source": [
    "#Q7.What happens if an existing file is opened in write mode ?"
   ]
  },
  {
   "cell_type": "markdown",
   "id": "92eab888",
   "metadata": {},
   "source": [
    "Ans: Using this mode will overwrite any existing content in a file. If the given file does not exist, a new one will be created."
   ]
  },
  {
   "cell_type": "markdown",
   "id": "e97a4122",
   "metadata": {},
   "source": [
    "#Q8.How do you tell the difference between read() and readlines() ?"
   ]
  },
  {
   "cell_type": "markdown",
   "id": "b092fe1a",
   "metadata": {},
   "source": [
    "Ans: The main difference is that read() will read the whole file at once and then print out the first characters that take up as many bytes as you specify in the parenthesis\n",
    "\n",
    "Whereas the readline() that will read and print out only the first characters that take up as many bytes as you specify in the parenthesis. You may want to use readline() when you're reading files that are too big for your RAM.\n",
    "\n",
    "The read() would treat each character in the file separately, meaning that the iteration would happen for every character.\n",
    "\n",
    "The readline() function, on the other hand, only reads a single line of the file. This means that if the first line of the file were three lines long, the readline() function would only parse (or iterate/operate) on the first line of the file."
   ]
  },
  {
   "cell_type": "markdown",
   "id": "e0170656",
   "metadata": {},
   "source": [
    "#Q9.What data structure does a shelf value resemble ?"
   ]
  },
  {
   "cell_type": "markdown",
   "id": "11b4a5da",
   "metadata": {},
   "source": [
    "Ans: it contains key and values it represents dictionary."
   ]
  }
 ],
 "metadata": {
  "kernelspec": {
   "display_name": "Python 3 (ipykernel)",
   "language": "python",
   "name": "python3"
  },
  "language_info": {
   "codemirror_mode": {
    "name": "ipython",
    "version": 3
   },
   "file_extension": ".py",
   "mimetype": "text/x-python",
   "name": "python",
   "nbconvert_exporter": "python",
   "pygments_lexer": "ipython3",
   "version": "3.9.12"
  }
 },
 "nbformat": 4,
 "nbformat_minor": 5
}
